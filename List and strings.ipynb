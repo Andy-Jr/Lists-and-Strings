{
 "cells": [
  {
   "cell_type": "code",
   "execution_count": 1,
   "metadata": {},
   "outputs": [
    {
     "name": "stdout",
     "output_type": "stream",
     "text": [
      "Andy\n",
      "Jamal\n",
      "Abdi\n",
      "el brayan\n",
      "eduardo\n"
     ]
    }
   ],
   "source": [
    "Nombres = ['Andy', 'Shaquisa', 'Jamal', 'Teyron', 'Abdi', 'Juan', 'el brayan', 'steven', 'eduardo', 'Queloque']\n",
    "x = len(Nombres)\n",
    "\n",
    "for x in range (0,10,2):\n",
    "    print (Nombres[x])\n",
    "#This code will print the names of the list that are even index number e.g. andy=0 and jamal= 2 as an index number"
   ]
  },
  {
   "cell_type": "code",
   "execution_count": 11,
   "metadata": {},
   "outputs": [
    {
     "name": "stdout",
     "output_type": "stream",
     "text": [
      "el brayan\n"
     ]
    }
   ],
   "source": [
    "import random\n",
    "Nombres = ['Andy', 'Shaquisa', 'Jamal', 'Teyron', 'Abdi', 'Juan', 'el brayan', 'steven', 'eduardo', 'Queloque']\n",
    "x = len(Nombres)\n",
    "\n",
    "print (random.choice(Nombres))\n",
    "#This code will give an output with a random name that is in the list of Nombres"
   ]
  },
  {
   "cell_type": "code",
   "execution_count": 12,
   "metadata": {},
   "outputs": [
    {
     "name": "stdout",
     "output_type": "stream",
     "text": [
      "y\n",
      "a\n",
      "l\n",
      "n\n",
      "i\n",
      "n\n",
      "n\n",
      "n\n",
      "o\n",
      "e\n"
     ]
    }
   ],
   "source": [
    "Nombres = ['Andy', 'Shaquisa', 'Jamal', 'Teyron', 'Abdi', 'Juan', 'el brayan', 'steven', 'eduardo', 'Queloque']\n",
    "x = len(Nombres)\n",
    "\n",
    "for x in Nombres:\n",
    "    print(x[-1])\n",
    "#This code will give an output of the last letter in all of the strings from the list Nombres"
   ]
  },
  {
   "cell_type": "code",
   "execution_count": 34,
   "metadata": {},
   "outputs": [
    {
     "name": "stdout",
     "output_type": "stream",
     "text": [
      "A\n",
      "i\n",
      "J\n",
      "e\n",
      "d\n",
      "n\n",
      "a\n",
      "e\n",
      "r\n",
      "e\n"
     ]
    }
   ],
   "source": [
    "import random\n",
    "Nombres = ['Andy', 'Shaquisa', 'Jamal', 'Teyron', 'Abdi', 'Juan', 'el brayan', 'steven', 'eduardo', 'Queloque']\n",
    "x = len(Nombres)\n",
    "\n",
    "for x in Nombres:\n",
    "    print (random.choice(x))\n",
    "#This code will give a random output of the letters in the strings of the list Nombres"
   ]
  },
  {
   "cell_type": "code",
   "execution_count": 35,
   "metadata": {},
   "outputs": [
    {
     "name": "stdout",
     "output_type": "stream",
     "text": [
      "Queloque\n",
      "eduardo\n",
      "steven\n",
      "el brayan\n",
      "Juan\n",
      "Abdi\n",
      "Teyron\n",
      "Jamal\n",
      "Shaquisa\n",
      "Andy\n"
     ]
    }
   ],
   "source": [
    "Nombres = ['Andy', 'Shaquisa', 'Jamal', 'Teyron', 'Abdi', 'Juan', 'el brayan', 'steven', 'eduardo', 'Queloque']\n",
    "x = len(Nombres)      \n",
    "\n",
    "for x in range(len(Nombres) - 1, -1, -1):\n",
    "    print(Nombres[x])\n",
    "#This code will print all the strings in the list backwards"
   ]
  },
  {
   "cell_type": "code",
   "execution_count": 1,
   "metadata": {},
   "outputs": [
    {
     "name": "stdout",
     "output_type": "stream",
     "text": [
      "[16, 13, 12, 15, 14, 12, 11, 20, 5, 12, 12, 17, 12, 12]\n"
     ]
    }
   ],
   "source": [
    "temperature = [16 , 13 , 12 , 15 , 14 , 12 , 11 , 20 , 12 , 12 , 17 , 12 , 12]\n",
    "\n",
    "temperature.insert(8,5)\n",
    "\n",
    "print (temperature)"
   ]
  },
  {
   "cell_type": "code",
   "execution_count": 6,
   "metadata": {},
   "outputs": [
    {
     "name": "stdout",
     "output_type": "stream",
     "text": [
      "[16, 13, 12, 15, 14, 12, 11, 20, 12, 12, 17, 12, 12, 7, 7, 7]\n"
     ]
    }
   ],
   "source": [
    "temperature = [16 , 13 , 12 , 15 , 14 , 12 , 11 , 20 , 12 , 12 , 17 , 12 , 12]\n",
    "\n",
    "temperature.extend([7 , 7 , 7])\n",
    "\n",
    "print (temperature)"
   ]
  },
  {
   "cell_type": "code",
   "execution_count": 17,
   "metadata": {},
   "outputs": [
    {
     "name": "stdout",
     "output_type": "stream",
     "text": [
      "[16, 13, 12, 15, 14, 12, 20, 12, 12, 17, 12, 12]\n"
     ]
    }
   ],
   "source": [
    "temperature = [16 , 13 , 12 , 15 , 14 , 12 , 11 , 20 , 12 , 12 , 17 , 12 , 12]\n",
    "\n",
    "del temperature[6]\n",
    "\n",
    "print(temperature)"
   ]
  },
  {
   "cell_type": "code",
   "execution_count": 13,
   "metadata": {},
   "outputs": [
    {
     "name": "stdout",
     "output_type": "stream",
     "text": [
      "[17, 13, 12, 15, 14, 12, 11, 20, 12, 12, 16, 12, 12]\n"
     ]
    }
   ],
   "source": [
    "temperature = [16 , 13 , 12 , 15 , 14 , 12 , 11 , 20 , 12 , 12 , 17 , 12 , 12]\n",
    "\n",
    "intermediate = temperature[0]\n",
    "temperature[0] = temperature[10]\n",
    "temperature[10] = intermediate\n",
    "\n",
    "print(temperature)\n"
   ]
  },
  {
   "cell_type": "code",
   "execution_count": 28,
   "metadata": {},
   "outputs": [
    {
     "name": "stdout",
     "output_type": "stream",
     "text": [
      "[16, 13, 15, 14, 12, 11, 20, 12, 12, 17, 12, 12]\n"
     ]
    }
   ],
   "source": [
    "temperature = [16 , 13 , 12 , 15 , 14 , 12 , 11 , 20 , 12 , 12 , 17 , 12 , 12]\n",
    "temperature.remove(12)\n",
    "print (temperature)"
   ]
  },
  {
   "cell_type": "code",
   "execution_count": 137,
   "metadata": {},
   "outputs": [
    {
     "name": "stdout",
     "output_type": "stream",
     "text": [
      "U\n"
     ]
    }
   ],
   "source": [
    "from string import ascii_letters\n",
    "from random import choice\n",
    "import collections\n",
    "\n",
    "a = choice(ascii_letters)\n",
    "print(a)"
   ]
  },
  {
   "cell_type": "code",
   "execution_count": 207,
   "metadata": {},
   "outputs": [
    {
     "name": "stdout",
     "output_type": "stream",
     "text": [
      "Counter({'P': 4, 'O': 4, 'S': 3, 'D': 3, 'I': 2, 'E': 2, 'A': 2, 'U': 2, 'Y': 2, 'R': 2, 'H': 2, 'M': 1, 'T': 1})\n"
     ]
    }
   ],
   "source": [
    "import collections\n",
    "\n",
    "letters = collections.Counter(\"PSEUDOPSEUDOHYPOPARATHYROIDISM\")\n",
    "\n",
    "print(letters)\n"
   ]
  },
  {
   "cell_type": "code",
   "execution_count": 295,
   "metadata": {},
   "outputs": [
    {
     "name": "stdout",
     "output_type": "stream",
     "text": [
      "Letter: S\n",
      "Appearances: 3\n"
     ]
    }
   ],
   "source": [
    "word = \"PSEUDOPSEUDOHYPOPARATHYROIDISM\"\n",
    "\n",
    "randomLetter = choice(newLetters)\n",
    "if randomLetter in word:\n",
    "    print(\"Letter: {}\\nAppearances: {}\".format(randomLetter, len(list(filter(lambda letter: letter == randomLetter, word)))))\n",
    "  \n"
   ]
  }
 ],
 "metadata": {
  "kernelspec": {
   "display_name": "Python 3",
   "language": "python",
   "name": "python3"
  },
  "language_info": {
   "codemirror_mode": {
    "name": "ipython",
    "version": 3
   },
   "file_extension": ".py",
   "mimetype": "text/x-python",
   "name": "python",
   "nbconvert_exporter": "python",
   "pygments_lexer": "ipython3",
   "version": "3.5.2"
  }
 },
 "nbformat": 4,
 "nbformat_minor": 2
}
